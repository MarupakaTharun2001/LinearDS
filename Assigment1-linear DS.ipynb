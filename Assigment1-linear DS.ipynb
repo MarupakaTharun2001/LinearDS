{
 "cells": [
  {
   "cell_type": "markdown",
   "id": "5bb02724",
   "metadata": {},
   "source": [
    "Q1. Write a program to find all pairs of an integer array whose sum is equal to a given number?"
   ]
  },
  {
   "cell_type": "code",
   "execution_count": 2,
   "id": "edf7448c",
   "metadata": {},
   "outputs": [
    {
     "name": "stdout",
     "output_type": "stream",
     "text": [
      "enter the array :[1,4,2,3,5,0]\n",
      "Pairs whose sum is :  5\n",
      "1 4\n",
      "2 3\n",
      "5 0\n"
     ]
    }
   ],
   "source": [
    "array = eval(input(\"enter the array :\"))\n",
    "\n",
    "def find(array, len, summ):\n",
    "    print(\"Pairs whose sum is : \", summ)\n",
    "    for i in range(len):\n",
    "        for j in range(i, len):\n",
    "            if (array[i] + array[j]) == summ:\n",
    "                print(array[i], array[j])\n",
    "summ = 5\n",
    "find(array, len(array), summ)"
   ]
  },
  {
   "cell_type": "markdown",
   "id": "73eb9e2b",
   "metadata": {},
   "source": [
    "Q2. Write a program to reverse an array in place? In place means you cannot create a new array. You have to update the original array."
   ]
  },
  {
   "cell_type": "code",
   "execution_count": 3,
   "id": "3e20090b",
   "metadata": {},
   "outputs": [
    {
     "name": "stdout",
     "output_type": "stream",
     "text": [
      "enter the array :[1,2,3,4,5,6,7]\n",
      "before [1, 2, 3, 4, 5, 6, 7]\n",
      "after [7, 6, 5, 4, 3, 2, 1]\n"
     ]
    }
   ],
   "source": [
    "array= eval(input(\"enter the array :\"))\n",
    "\n",
    "def find(array,start, end):\n",
    "    while(start<end):\n",
    "        array[start], array[end] = array[end], array[start]\n",
    "        start+=1\n",
    "        end-=1\n",
    "\n",
    "        \n",
    "        \n",
    "print(\"before\", array)\n",
    "find(array,0,6)\n",
    "print(\"after\", array)\n",
    "\n",
    "                 \n",
    "    "
   ]
  },
  {
   "cell_type": "markdown",
   "id": "b250eded",
   "metadata": {},
   "source": [
    "Q3. Write a program to check if two strings are a rotation of each other?"
   ]
  },
  {
   "cell_type": "code",
   "execution_count": 4,
   "id": "5af8927a",
   "metadata": {},
   "outputs": [
    {
     "name": "stdout",
     "output_type": "stream",
     "text": [
      "enter the value 1 :swede\n",
      "enter the value 2: deswe\n",
      "string are rotation to each other\n"
     ]
    }
   ],
   "source": [
    "s1=input(\"enter the value 1 :\")\n",
    "s2=input(\"enter the value 2: \")\n",
    "if(len(s1)==len(s2)):\n",
    "        s1=s1+s1\n",
    "        \n",
    "        if(s1.index(s2)):\n",
    "            print(\"string are rotation to each other\")\n",
    "else:\n",
    "        print(\"string are not rotation to each other\")\n",
    "        \n",
    "    "
   ]
  },
  {
   "cell_type": "markdown",
   "id": "0f38b4f1",
   "metadata": {},
   "source": [
    "Q4. Write a program to print the first non-repeated character from a string?"
   ]
  },
  {
   "cell_type": "code",
   "execution_count": 5,
   "id": "f4c58cdd",
   "metadata": {},
   "outputs": [
    {
     "name": "stdout",
     "output_type": "stream",
     "text": [
      "enter the name :pythhhh\n",
      "First non-repeating character is p\n"
     ]
    }
   ],
   "source": [
    "s1=input(\"enter the name :\")\n",
    "num=0\n",
    "rep=\"\"\n",
    "for i in s1:\n",
    "    if s1.count(i)==1:\n",
    "        rep+=i\n",
    "        break\n",
    "    else:\n",
    "        num+=1\n",
    "if num==len(s1)-1:\n",
    "      print(\"All characters are repeating \")\n",
    "else:\n",
    "    print(\"First non-repeating character is\", rep)        "
   ]
  },
  {
   "cell_type": "markdown",
   "id": "a0e8ded9",
   "metadata": {},
   "source": [
    "Q5. Read about the Tower of Hanoi algorithm. Write a program to implement it."
   ]
  },
  {
   "cell_type": "code",
   "execution_count": 6,
   "id": "a12da729",
   "metadata": {},
   "outputs": [
    {
     "name": "stdout",
     "output_type": "stream",
     "text": [
      "move disk 1 from source A to destination C\n",
      "move disk 2 from source A to destination B\n",
      "move disk 1 from source B to destination C\n",
      "move disk 3 from source A to destination C\n",
      "move disk 1 from source C to destination A\n",
      "move disk 2 from source C to destination B\n",
      "move disk 1 from source B to destination A\n"
     ]
    }
   ],
   "source": [
    "def Hanoi(n,RED,BLUE, CYAN):\n",
    "    if n==0:\n",
    "        return          0\n",
    "    Hanoi(n-1,RED, CYAN, BLUE)\n",
    "    print(\"move disk\",n,\"from source\",RED, \"to destination\",BLUE)\n",
    "    Hanoi(n-1, BLUE,CYAN,RED)\n",
    "\n",
    "n=2   \n",
    "Hanoi(3,\"A\",\"C\",\"B\")\n",
    "\n"
   ]
  },
  {
   "cell_type": "markdown",
   "id": "ec980544",
   "metadata": {},
   "source": [
    "Q6. Read about infix, prefix, and postfix expressions. Write a program to convert postfix to prefix expression.\n",
    "\n"
   ]
  },
  {
   "cell_type": "code",
   "execution_count": 15,
   "id": "464302b7",
   "metadata": {},
   "outputs": [
    {
     "name": "stdout",
     "output_type": "stream",
     "text": [
      "*+abc\n"
     ]
    }
   ],
   "source": [
    "def postfix_to_prefix(expression):\n",
    "    stack = []\n",
    "\n",
    "    for token in expression:\n",
    "        if token.isalnum():\n",
    "            stack.append(token)\n",
    "        else:\n",
    "            operand2 = stack.pop()\n",
    "            operand1 = stack.pop()\n",
    "            stack.append(token + operand1 + operand2)\n",
    "\n",
    "    return stack[0]\n",
    "postfix_exp = \"ab+c*\"\n",
    "prefix_exp = postfix_to_prefix(postfix_exp)\n",
    "print(prefix_exp)"
   ]
  },
  {
   "cell_type": "markdown",
   "id": "6d45cd70",
   "metadata": {},
   "source": [
    "Q7. Write a program to convert prefix expression to infix expression.\n",
    "\n"
   ]
  },
  {
   "cell_type": "code",
   "execution_count": 16,
   "id": "09bc837b",
   "metadata": {},
   "outputs": [
    {
     "name": "stdout",
     "output_type": "stream",
     "text": [
      "((a+b)*(c-d))\n"
     ]
    }
   ],
   "source": [
    "def is_operator(char):\n",
    "    return char in \"+-*/\"\n",
    "\n",
    "def prefix_to_infix(expression):\n",
    "    stack = []\n",
    "\n",
    "    for token in reversed(expression):\n",
    "        if not is_operator(token):\n",
    "            stack.append(token)\n",
    "        else:\n",
    "            operand1 = stack.pop()\n",
    "            operand2 = stack.pop()\n",
    "            infix = f\"({operand1}{token}{operand2})\"\n",
    "            stack.append(infix)\n",
    "\n",
    "    return stack[0]\n",
    "prefix_exp = \"*+ab-cd\"\n",
    "infix_exp = prefix_to_infix(prefix_exp)\n",
    "print(infix_exp)"
   ]
  },
  {
   "cell_type": "markdown",
   "id": "ec50bd7d",
   "metadata": {},
   "source": [
    "Q8. Write a program to check if all the brackets are closed in a given code snippet.\n",
    "\n"
   ]
  },
  {
   "cell_type": "code",
   "execution_count": 17,
   "id": "54f891a2",
   "metadata": {},
   "outputs": [
    {
     "name": "stdout",
     "output_type": "stream",
     "text": [
      "True\n"
     ]
    }
   ],
   "source": [
    "def are_brackets_balanced(code):\n",
    "    stack = []\n",
    "    opening_brackets = \"([{\"\n",
    "    closing_brackets = \")]}\"\n",
    "\n",
    "    for char in code:\n",
    "        if char in opening_brackets:\n",
    "            stack.append(char)\n",
    "        elif char in closing_brackets:\n",
    "            if not stack or opening_brackets.index(stack.pop()) != closing_brackets.index(char):\n",
    "                return False\n",
    "    return len(stack) == 0\n",
    "code_snippet = \"{[()()]}\"\n",
    "print(are_brackets_balanced(code_snippet))"
   ]
  },
  {
   "cell_type": "markdown",
   "id": "c8a3af39",
   "metadata": {},
   "source": [
    "Q9. Write a program to reverse a stack.\n",
    "\n"
   ]
  },
  {
   "cell_type": "code",
   "execution_count": 8,
   "id": "bbc5307d",
   "metadata": {},
   "outputs": [],
   "source": [
    "a=[4,5,9,8]\n",
    "def push(x,item):\n",
    "    x.append(item)\n",
    "    return x"
   ]
  },
  {
   "cell_type": "code",
   "execution_count": 9,
   "id": "efeeba3d",
   "metadata": {},
   "outputs": [
    {
     "data": {
      "text/plain": [
       "[4, 5, 9, 8, 5]"
      ]
     },
     "execution_count": 9,
     "metadata": {},
     "output_type": "execute_result"
    }
   ],
   "source": [
    "push(a,5)"
   ]
  },
  {
   "cell_type": "code",
   "execution_count": 10,
   "id": "e13179e0",
   "metadata": {},
   "outputs": [
    {
     "data": {
      "text/plain": [
       "[4, 5, 9, 8, 5, 9]"
      ]
     },
     "execution_count": 10,
     "metadata": {},
     "output_type": "execute_result"
    }
   ],
   "source": [
    "push(a,9)"
   ]
  },
  {
   "cell_type": "code",
   "execution_count": 11,
   "id": "848aea1f",
   "metadata": {},
   "outputs": [],
   "source": [
    "rev=a[::-1]"
   ]
  },
  {
   "cell_type": "code",
   "execution_count": 12,
   "id": "658fcb1f",
   "metadata": {},
   "outputs": [
    {
     "name": "stdout",
     "output_type": "stream",
     "text": [
      "[9, 5, 8, 9, 5, 4]\n"
     ]
    }
   ],
   "source": [
    "print(rev)"
   ]
  },
  {
   "cell_type": "markdown",
   "id": "01a94fc6",
   "metadata": {},
   "source": [
    "Q10. Write a program to find the smallest number using a stack.\n",
    "\n"
   ]
  },
  {
   "cell_type": "code",
   "execution_count": 13,
   "id": "65a57346",
   "metadata": {},
   "outputs": [],
   "source": [
    "def quicksort(x):\n",
    "    if len(x)<=1:\n",
    "        return(x)\n",
    "    else:\n",
    "        p = x[0]\n",
    "        l = [i for i in x[1:] if i <= p]\n",
    "        r = [i for i in x[1:] if i > p]\n",
    "    return quicksort(l)+[p]+quicksort(r)\n"
   ]
  },
  {
   "cell_type": "code",
   "execution_count": 14,
   "id": "b04779c4",
   "metadata": {},
   "outputs": [
    {
     "name": "stdout",
     "output_type": "stream",
     "text": [
      "[18, 22, 36, 55, 97]\n",
      "smallest number : 18\n"
     ]
    }
   ],
   "source": [
    "x=[97,18,22,36,55]\n",
    "y=quicksort(x)\n",
    "print(y)\n",
    "print(\"smallest number :\",y[0])"
   ]
  },
  {
   "cell_type": "code",
   "execution_count": null,
   "id": "7273b40d",
   "metadata": {},
   "outputs": [],
   "source": []
  }
 ],
 "metadata": {
  "kernelspec": {
   "display_name": "Python 3 (ipykernel)",
   "language": "python",
   "name": "python3"
  },
  "language_info": {
   "codemirror_mode": {
    "name": "ipython",
    "version": 3
   },
   "file_extension": ".py",
   "mimetype": "text/x-python",
   "name": "python",
   "nbconvert_exporter": "python",
   "pygments_lexer": "ipython3",
   "version": "3.9.7"
  }
 },
 "nbformat": 4,
 "nbformat_minor": 5
}
